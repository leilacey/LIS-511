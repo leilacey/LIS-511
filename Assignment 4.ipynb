{
 "cells": [
  {
   "cell_type": "markdown",
   "metadata": {},
   "source": [
    "# Assignment 4\n",
    "## Chapter 5\n",
    "### 5-1 / 5-2"
   ]
  },
  {
   "cell_type": "code",
   "execution_count": 2,
   "metadata": {
    "scrolled": false
   },
   "outputs": [
    {
     "name": "stdout",
     "output_type": "stream",
     "text": [
      "Is car == 'subaru'? I predict True\n",
      "True\n",
      "\n",
      "Is car == 'audi'? I predict false\n",
      "False\n"
     ]
    }
   ],
   "source": [
    "car = 'subaru'\n",
    "print(\"Is car == 'subaru'? I predict True\")\n",
    "print(car == 'subaru')\n",
    "\n",
    "print(\"\\nIs car == 'audi'? I predict False\")\n",
    "print(car == 'audi')"
   ]
  },
  {
   "cell_type": "code",
   "execution_count": 8,
   "metadata": {},
   "outputs": [
    {
     "name": "stdout",
     "output_type": "stream",
     "text": [
      "Is fruit == 'pineapple'? I predict True\n",
      "True\n",
      "\n",
      "fruit == 'Pineapple'? I predict False\n",
      "False\n"
     ]
    }
   ],
   "source": [
    "fruit = 'Pineapple'\n",
    "print(\"Is fruit == 'pineapple'? I predict True\")\n",
    "print(fruit.lower() == 'pineapple')\n",
    "\n",
    "print(\"\\nfruit == 'Pineapple'? I predict False\")\n",
    "print(fruit.lower() == 'Pineapple')"
   ]
  },
  {
   "cell_type": "code",
   "execution_count": 13,
   "metadata": {},
   "outputs": [
    {
     "name": "stdout",
     "output_type": "stream",
     "text": [
      "Is age < 21? I predict True\n",
      "True\n",
      "\n",
      "age > 21? I predict False\n",
      "False\n",
      "\n",
      "Is age = 20? I predict True\n",
      "True\n",
      "\n",
      "age != 20? I predict False\n",
      "False\n",
      "\n",
      "Is age <= 20? I predict True\n",
      "True\n",
      "\n",
      "age >= 21? I predict False\n",
      "False\n"
     ]
    }
   ],
   "source": [
    "age = 20\n",
    "print(\"Is age < 21? I predict True\")\n",
    "print(age < 21)\n",
    "\n",
    "print(\"\\nage > 21? I predict False\")\n",
    "print(age > 21)\n",
    "\n",
    "print(\"\\nIs age = 20? I predict True\")\n",
    "print(age == 20)\n",
    "\n",
    "print(\"\\nage != 20? I predict False\")\n",
    "print(age != 20)\n",
    "\n",
    "print(\"\\nIs age <= 20? I predict True\")\n",
    "print(age <= 20)\n",
    "\n",
    "print(\"\\nage >= 21? I predict False\")\n",
    "print(age >= 21)"
   ]
  },
  {
   "cell_type": "code",
   "execution_count": 20,
   "metadata": {},
   "outputs": [
    {
     "name": "stdout",
     "output_type": "stream",
     "text": [
      "\n",
      "size = grande and drink = coffee? I predict True\n",
      "True\n",
      "\n",
      "size = grande and drink = hot cocoa? I predict False\n",
      "False\n",
      "\n",
      "size = grande or drink = hot cocoa? I predict True\n",
      "True\n",
      "\n",
      "size = venti or drink = hot cocoa? I predict False\n",
      "False\n"
     ]
    }
   ],
   "source": [
    "size = 'grande'\n",
    "drink = 'coffee'\n",
    "print(\"\\nsize = grande and drink = coffee? I predict True\")\n",
    "print(size == 'grande' and drink == 'coffee')\n",
    "\n",
    "print(\"\\nsize = grande and drink = hot cocoa? I predict False\")\n",
    "print(size == 'grande' and drink == 'hot cocoa')\n",
    "\n",
    "print(\"\\nsize = grande or drink = hot cocoa? I predict True\")\n",
    "print(size == 'grande' or drink == 'hot cocoa')\n",
    "\n",
    "print(\"\\nsize = venti or drink = hot cocoa? I predict False\")\n",
    "print(size == 'venti' or drink == 'hot cocoa')"
   ]
  },
  {
   "cell_type": "code",
   "execution_count": 22,
   "metadata": {},
   "outputs": [
    {
     "name": "stdout",
     "output_type": "stream",
     "text": [
      "\n",
      "Is pineapple in fruit? I predict True\n",
      "True\n",
      "\n",
      "Is cucumber in fruit? I predict False\n",
      "False\n",
      "\n",
      "Is cucumber not in fruit? I predict True\n",
      "True\n",
      "\n",
      "Is pineapple in fruit? I predict False\n",
      "False\n"
     ]
    }
   ],
   "source": [
    "fruit = [\"pineapple\",\"strawberry\", \"orange\"]\n",
    "\n",
    "print(\"\\nIs pineapple in fruit? I predict True\")\n",
    "print('pineapple' in fruit)\n",
    "\n",
    "print(\"\\nIs cucumber in fruit? I predict False\")\n",
    "print('cucumber' in fruit)\n",
    "\n",
    "print(\"\\nIs cucumber not in fruit? I predict True\")\n",
    "print('cucumber' not in fruit)\n",
    "\n",
    "print(\"\\nIs pineapple in fruit? I predict False\")\n",
    "print('pineapple' not in fruit)"
   ]
  },
  {
   "cell_type": "markdown",
   "metadata": {},
   "source": [
    "### 5-3"
   ]
  },
  {
   "cell_type": "code",
   "execution_count": 25,
   "metadata": {},
   "outputs": [
    {
     "name": "stdout",
     "output_type": "stream",
     "text": [
      "You earned 5 points\n"
     ]
    }
   ],
   "source": [
    "alien_color = \"green\"\n",
    "\n",
    "if alien_color == \"green\":\n",
    "    print(\"You earned 5 points\")"
   ]
  },
  {
   "cell_type": "markdown",
   "metadata": {},
   "source": [
    "### 5-4"
   ]
  },
  {
   "cell_type": "code",
   "execution_count": 28,
   "metadata": {},
   "outputs": [
    {
     "name": "stdout",
     "output_type": "stream",
     "text": [
      "You earned 10 points for shooting the alien\n"
     ]
    }
   ],
   "source": [
    "alien_color = \"red\"\n",
    "\n",
    "if alien_color == \"green\":\n",
    "    print(\"You earned 5 points for shooting the alien\")\n",
    "else:\n",
    "    print(\"You earned 10 points for shooting the alien\")"
   ]
  },
  {
   "cell_type": "markdown",
   "metadata": {},
   "source": [
    "### 5-5"
   ]
  },
  {
   "cell_type": "code",
   "execution_count": 32,
   "metadata": {},
   "outputs": [
    {
     "name": "stdout",
     "output_type": "stream",
     "text": [
      "You earned 10 points for shooting the alien\n"
     ]
    }
   ],
   "source": [
    "alien_color = \"yellow\"\n",
    "\n",
    "if alien_color == \"green\":\n",
    "    print(\"You earned 5 points for shooting the alien\")\n",
    "elif alien_color == \"yellow\":\n",
    "    print(\"You earned 10 points for shooting the alien\")\n",
    "else:\n",
    "    print(\"You earned 15 points for shooting the alien\")"
   ]
  },
  {
   "cell_type": "markdown",
   "metadata": {},
   "source": [
    "### 5-6"
   ]
  },
  {
   "cell_type": "code",
   "execution_count": 34,
   "metadata": {},
   "outputs": [
    {
     "name": "stdout",
     "output_type": "stream",
     "text": [
      "You are a kid!\n"
     ]
    }
   ],
   "source": [
    "age = 5\n",
    "\n",
    "if age < 2:\n",
    "    print(\"You are a baby!\")\n",
    "elif age >= 2 and age < 4:\n",
    "    print(\"You are a toddler!\")\n",
    "elif age >= 4 and age < 13:\n",
    "    print(\"You are a kid!\")\n",
    "elif age >= 13 and age < 20:\n",
    "    print(\"You are a teenager!\")\n",
    "elif age >= 20 and age < 65:\n",
    "    print(\"You are a adult!\")\n",
    "elif age >= 65:\n",
    "    print(\"You are an elder!\")   "
   ]
  },
  {
   "cell_type": "markdown",
   "metadata": {},
   "source": [
    "### 5-7"
   ]
  },
  {
   "cell_type": "code",
   "execution_count": 36,
   "metadata": {},
   "outputs": [
    {
     "name": "stdout",
     "output_type": "stream",
     "text": [
      "You really like pineapple\n",
      "You really like strawberry\n",
      "You really like orange\n"
     ]
    }
   ],
   "source": [
    "favorite_fruit = [\"pineapple\",\"strawberry\", \"orange\"]\n",
    "\n",
    "if 'pineapple' in favorite_fruit:\n",
    "    print(\"You really like pineapple\")\n",
    "\n",
    "if 'strawberry' in favorite_fruit:\n",
    "    print(\"You really like strawberry\")\n",
    "    \n",
    "if 'apple' in favorite_fruit:\n",
    "    print(\"You really like apple\")\n",
    "    \n",
    "if 'banana' in favorite_fruit:\n",
    "    print(\"You really like banana\")\n",
    "\n",
    "if 'orange' in favorite_fruit:\n",
    "    print(\"You really like orange\")"
   ]
  },
  {
   "cell_type": "markdown",
   "metadata": {},
   "source": [
    "### 5-8 / 5-9"
   ]
  },
  {
   "cell_type": "code",
   "execution_count": 45,
   "metadata": {},
   "outputs": [
    {
     "name": "stdout",
     "output_type": "stream",
     "text": [
      "Hello admin, would you like to see a status report?\n",
      "Hello Eric, thank you for logging in again.\n",
      "Hello Danny, thank you for logging in again.\n",
      "Hello Roberta, thank you for logging in again.\n",
      "Hello Robot1, thank you for logging in again.\n"
     ]
    }
   ],
   "source": [
    "usernames = [\"admin\", \"Eric\", \"Danny\", \"Roberta\", \"Robot1\"]\n",
    "\n",
    "if usernames:\n",
    "    for username in usernames:\n",
    "        if username =='admin':\n",
    "            print(\"Hello admin, would you like to see a status report?\")\n",
    "        else:\n",
    "            print(\"Hello \" + username + \", thank you for logging in again.\")\n",
    "else:\n",
    "    print(\"We need to find you some users!\")"
   ]
  },
  {
   "cell_type": "markdown",
   "metadata": {},
   "source": [
    "### 5-10"
   ]
  },
  {
   "cell_type": "code",
   "execution_count": 44,
   "metadata": {},
   "outputs": [
    {
     "name": "stdout",
     "output_type": "stream",
     "text": [
      "newguy is available\n",
      "Eric is taken. You need to enter in a new username\n",
      "Danny is taken. You need to enter in a new username\n",
      "Jennifer is available\n",
      "Robot2 is available\n"
     ]
    }
   ],
   "source": [
    "current_usernames = [\"admin\", \"Eric\", \"Danny\", \"Roberta\", \"Robot1\"]\n",
    "new_usernames = [\"newguy\", \"Eric\", \"Danny\", \"Jennifer\", \"Robot2\"]\n",
    "\n",
    "current_usernames_lowercase = [user.lower() for user in current_usernames]\n",
    "\n",
    "for new_username in new_usernames:\n",
    "    if new_username.lower() in current_usernames_lowercase:\n",
    "        print(new_username + \" is taken. You need to enter in a new username\")\n",
    "    else:\n",
    "        print(new_username + \" is available\")"
   ]
  },
  {
   "cell_type": "markdown",
   "metadata": {},
   "source": [
    "### 5-11"
   ]
  },
  {
   "cell_type": "code",
   "execution_count": 48,
   "metadata": {},
   "outputs": [
    {
     "name": "stdout",
     "output_type": "stream",
     "text": [
      "1st\n",
      "\n",
      "2nd\n",
      "\n",
      "3rd\n",
      "\n",
      "4th\n",
      "\n",
      "5th\n",
      "\n",
      "6th\n",
      "\n",
      "7th\n",
      "\n",
      "8th\n",
      "\n",
      "9th\n"
     ]
    }
   ],
   "source": [
    "numbers = [1, 2, 3, 4, 5, 6, 7, 8, 9]\n",
    "\n",
    "for number in numbers:\n",
    "    if number == 1:\n",
    "        print(\"1st\")\n",
    "    elif number == 2:\n",
    "        print(\"\\n2nd\")\n",
    "    elif number == 3:\n",
    "        print(\"\\n3rd\")\n",
    "    else:\n",
    "        print(\"\\n\" + str(number) + \"th\")"
   ]
  },
  {
   "cell_type": "markdown",
   "metadata": {},
   "source": [
    "### 5-13\n",
    "\n",
    "I am interested in how you can use programming to gather data in the form of quizzes and surveys and then using the data to make predictions on future behavior."
   ]
  },
  {
   "cell_type": "markdown",
   "metadata": {},
   "source": [
    "## Chapter 6\n",
    "\n",
    "### 6 -1"
   ]
  },
  {
   "cell_type": "code",
   "execution_count": 52,
   "metadata": {},
   "outputs": [
    {
     "name": "stdout",
     "output_type": "stream",
     "text": [
      "{'first_name': 'Dennis', 'last_name': 'Ruggerio', 'age': '24', 'city': 'Seattle, WA'}\n"
     ]
    }
   ],
   "source": [
    "person = {\n",
    "    'first_name': \"Dennis\",\n",
    "    'last_name': \"Ruggerio\",\n",
    "    'age': \"24\",\n",
    "    'city': \"Seattle, WA\"\n",
    "}\n",
    "\n",
    "print(person)"
   ]
  },
  {
   "cell_type": "markdown",
   "metadata": {},
   "source": [
    "### 6-2"
   ]
  },
  {
   "cell_type": "code",
   "execution_count": 54,
   "metadata": {},
   "outputs": [
    {
     "name": "stdout",
     "output_type": "stream",
     "text": [
      "{'person1': '1', 'person2': '2', 'person3': '3', 'person4': '4', 'person5': '5'}\n"
     ]
    }
   ],
   "source": [
    "favorite_numbers = {\n",
    "    \"person1\" : \"1\",\n",
    "    \"person2\" : \"2\",\n",
    "    \"person3\" : \"3\",\n",
    "    \"person4\" : \"4\",\n",
    "    \"person5\" : \"5\"\n",
    "}\n",
    "\n",
    "print(favorite_numbers)"
   ]
  },
  {
   "cell_type": "markdown",
   "metadata": {},
   "source": [
    "### 6-3/ 6-4"
   ]
  },
  {
   "cell_type": "code",
   "execution_count": 57,
   "metadata": {},
   "outputs": [
    {
     "name": "stdout",
     "output_type": "stream",
     "text": [
      "list: a collection of items in a particular order\n",
      "dictionary: a collection of key value pairs\n",
      "if statement: an expression that can be evaluated as True or False\n",
      "tuple: immutable list\n",
      "string: series of strings\n",
      "comment: A note in a program that the Python interpreter ignores\n",
      "loop: Work through a collection of items, one at a time\n",
      "key: The first item in a key-value pair in a dictionary\n",
      "value: An item associated with a key in a dictionary\n",
      "conditional test: A comparison between two values\n"
     ]
    }
   ],
   "source": [
    "glossary = {\n",
    "    \"list\" : \"a collection of items in a particular order\",\n",
    "    \"dictionary\" : \"a collection of key value pairs\",\n",
    "    \"if statement\" : \"an expression that can be evaluated as True or False\",\n",
    "    \"tuple\" : \"immutable list\",\n",
    "    \"string\" : \"series of strings\",\n",
    "    \"comment\" : \"A note in a program that the Python interpreter ignores\",\n",
    "    \"loop\": \"Work through a collection of items, one at a time\",\n",
    "    \"key\": \"The first item in a key-value pair in a dictionary\",\n",
    "    \"value\": \"An item associated with a key in a dictionary\",\n",
    "    \"conditional test\": \"A comparison between two values\",\n",
    "    \n",
    "}\n",
    "\n",
    "for key, value in glossary.items():\n",
    "    print(key + \": \" + value)"
   ]
  },
  {
   "cell_type": "markdown",
   "metadata": {},
   "source": [
    "### 6-5"
   ]
  },
  {
   "cell_type": "code",
   "execution_count": 65,
   "metadata": {},
   "outputs": [
    {
     "name": "stdout",
     "output_type": "stream",
     "text": [
      "The Nileruns through Egypt.\n",
      "The Amazonruns through Brazil.\n",
      "The Yangtzeruns through China.\n",
      "Nile\n",
      "Amazon\n",
      "Yangtze\n",
      "Egypt\n",
      "Brazil\n",
      "China\n"
     ]
    }
   ],
   "source": [
    "rivers = {\n",
    "    \"nile\" : \"egypt\",\n",
    "    \"amazon\" : \"brazil\",\n",
    "    \"yangtze\" : \"china\"\n",
    "}\n",
    "\n",
    "for key, value in rivers.items():\n",
    "    print(\"The \" + key.title() + \"runs through \" + value.title() + \".\")\n",
    "    \n",
    "for key in rivers.keys():\n",
    "    print(key.title())\n",
    "\n",
    "for value in rivers.values():\n",
    "    print(value.title())"
   ]
  },
  {
   "cell_type": "markdown",
   "metadata": {},
   "source": [
    "### 6-6"
   ]
  },
  {
   "cell_type": "code",
   "execution_count": 68,
   "metadata": {},
   "outputs": [
    {
     "name": "stdout",
     "output_type": "stream",
     "text": [
      "Thank you for responding to the poll.\n",
      "Would you like to take our poll?\n",
      "Thank you for responding to the poll.\n",
      "Would you like to take our poll?\n"
     ]
    }
   ],
   "source": [
    "favorite_languages = {\n",
    "    'jen': 'python',\n",
    "    'sarah' : 'c',\n",
    "    'edward' : 'ruby',\n",
    "    'phil' : 'python'\n",
    "}\n",
    "\n",
    "already_polled = favorite_languages.keys()\n",
    "\n",
    "potential_pollers = [\"jen\", 'steve', \"edward\", \"jacob\"]\n",
    "\n",
    "for poller in potential_pollers:\n",
    "    if poller in already_polled:\n",
    "        print(\"Thank you for responding to the poll.\")\n",
    "    else:\n",
    "        print(\"Would you like to take our poll?\")"
   ]
  },
  {
   "cell_type": "markdown",
   "metadata": {},
   "source": [
    "### 6-7"
   ]
  },
  {
   "cell_type": "code",
   "execution_count": 71,
   "metadata": {},
   "outputs": [
    {
     "name": "stdout",
     "output_type": "stream",
     "text": [
      "{'first_name': 'Dennis', 'last_name': 'Ruggerio', 'age': '24', 'city': 'Seattle, WA'}\n",
      "{'first_name': 'Timothy', 'last_name': 'Spade', 'age': '22', 'city': 'Seattle, WA'}\n",
      "{'first_name': 'Mark', 'last_name': 'Dorchester', 'age': '23', 'city': 'Seattle, WA'}\n"
     ]
    }
   ],
   "source": [
    "person_1 = {\n",
    "    'first_name': \"Dennis\",\n",
    "    'last_name': \"Ruggerio\",\n",
    "    'age': \"24\",\n",
    "    'city': \"Seattle, WA\"\n",
    "}\n",
    "\n",
    "person_2 = {\n",
    "    'first_name': \"Timothy\",\n",
    "    'last_name': \"Spade\",\n",
    "    'age': \"22\",\n",
    "    'city': \"Seattle, WA\"\n",
    "}\n",
    "\n",
    "person_3 = {\n",
    "    'first_name': \"Mark\",\n",
    "    'last_name': \"Dorchester\",\n",
    "    'age': \"23\",\n",
    "    'city': \"Seattle, WA\"\n",
    "}\n",
    "\n",
    "person_list = [person_1, person_2, person_3]\n",
    "\n",
    "for person in person_list:\n",
    "    print(person)"
   ]
  },
  {
   "cell_type": "markdown",
   "metadata": {},
   "source": [
    "### 6-8"
   ]
  },
  {
   "cell_type": "code",
   "execution_count": 74,
   "metadata": {},
   "outputs": [
    {
     "name": "stdout",
     "output_type": "stream",
     "text": [
      "{'breed': 'German Shepard', 'owner': 'Dennis'}\n",
      "{'breed': 'Corgi', 'owner': 'Jim'}\n",
      "{'breed': 'Cavichon', 'owner': 'Owen'}\n"
     ]
    }
   ],
   "source": [
    "Shadow = {\n",
    "    'breed' : 'German Shepard',\n",
    "    'owner' : 'Dennis'\n",
    "}\n",
    "\n",
    "Taquito = {\n",
    "    'breed' : 'Corgi',\n",
    "    'owner' : 'Jim'\n",
    "}\n",
    "\n",
    "Rudy  = {\n",
    "    'breed' : 'Cavichon',\n",
    "    'owner' : 'Owen'\n",
    "}\n",
    "\n",
    "pets = [Shadow, Taquito, Rudy]\n",
    "\n",
    "for pet in pets:\n",
    "    print(pet)"
   ]
  },
  {
   "cell_type": "markdown",
   "metadata": {},
   "source": [
    "### 6-9"
   ]
  },
  {
   "cell_type": "code",
   "execution_count": 81,
   "metadata": {},
   "outputs": [
    {
     "name": "stdout",
     "output_type": "stream",
     "text": [
      "Dennis: \n",
      "['Italy', 'London', 'Canada']\n",
      "Timothy: \n",
      "['DisneyLand', 'DisneyWorld']\n",
      "Mark: \n",
      "['My couch']\n"
     ]
    }
   ],
   "source": [
    "favorite_places = {\n",
    "    'Dennis' : [\"Italy\", \"London\", \"Canada\"],\n",
    "    'Timothy' : [\"DisneyLand\", \"DisneyWorld\"],\n",
    "    'Mark' : [\"My couch\"]\n",
    "}\n",
    "\n",
    "for key, value in favorite_places.items():\n",
    "    print (key + \": \")\n",
    "    print(value)"
   ]
  },
  {
   "cell_type": "markdown",
   "metadata": {},
   "source": [
    "### 6-10"
   ]
  },
  {
   "cell_type": "code",
   "execution_count": 82,
   "metadata": {},
   "outputs": [
    {
     "name": "stdout",
     "output_type": "stream",
     "text": [
      "person1: \n",
      "['1', '11']\n",
      "person2: \n",
      "['2', '12']\n",
      "person3: \n",
      "['3', '13']\n",
      "person4: \n",
      "['4', '14']\n",
      "person5: \n",
      "['5', '15']\n"
     ]
    }
   ],
   "source": [
    "favorite_numbers = {\n",
    "    \"person1\" : [\"1\", \"11\"],\n",
    "    \"person2\" : [\"2\", \"12\"],\n",
    "    \"person3\" : [\"3\", \"13\"],\n",
    "    \"person4\" : [\"4\", \"14\"],\n",
    "    \"person5\" : [\"5\", \"15\"]\n",
    "}\n",
    "\n",
    "for key, value in favorite_numbers.items():\n",
    "    print (key + \": \")\n",
    "    print(value)"
   ]
  },
  {
   "cell_type": "code",
   "execution_count": 86,
   "metadata": {},
   "outputs": [
    {
     "name": "stdout",
     "output_type": "stream",
     "text": [
      "Seattle: \n",
      "{'Country': 'USA', 'Population': '724,717', 'Fact': 'We make the best coffee.'}\n",
      "New York: \n",
      "{'Country': 'USA', 'Population': '8,600,000', 'Fact': 'They have nice bagels.'}\n",
      "London: \n",
      "{'Country': 'UK', 'Population': '8,100,000', 'Fact': 'They have funny accents'}\n"
     ]
    }
   ],
   "source": [
    "cities = {\n",
    "    \"Seattle\" : {\n",
    "        'Country' : 'USA',\n",
    "        'Population' : '724,717',\n",
    "        'Fact' : 'We make the best coffee.'\n",
    "    },\n",
    "    \"New York\" : {\n",
    "        'Country' : 'USA',\n",
    "        'Population' : '8,600,000',\n",
    "        'Fact' : 'They have nice bagels.'\n",
    "    },\n",
    "    \"London\" : {\n",
    "        'Country' : 'UK',\n",
    "        'Population' : '8,100,000',\n",
    "        'Fact' : 'They have funny accents'\n",
    "    }\n",
    "}\n",
    "\n",
    "for key, value in cities.items():\n",
    "    print (key + \": \")\n",
    "    print(value)\n"
   ]
  },
  {
   "cell_type": "markdown",
   "metadata": {},
   "source": [
    "### 6-12"
   ]
  },
  {
   "cell_type": "code",
   "execution_count": 90,
   "metadata": {},
   "outputs": [
    {
     "name": "stdout",
     "output_type": "stream",
     "text": [
      "first_name: Dennis\n",
      "last_name: Ruggerio\n",
      "age: 24\n",
      "city: Seattle, WA\n",
      "\n",
      "\n",
      "first_name: Timothy\n",
      "last_name: Spade\n",
      "age: 22\n",
      "city: Seattle, WA\n",
      "\n",
      "\n",
      "first_name: Mark\n",
      "last_name: Dorchester\n",
      "age: 23\n",
      "city: Seattle, WA\n",
      "\n",
      "\n"
     ]
    }
   ],
   "source": [
    "person_1 = {\n",
    "    'first_name': \"Dennis\",\n",
    "    'last_name': \"Ruggerio\",\n",
    "    'age': \"24\",\n",
    "    'city': \"Seattle, WA\"\n",
    "}\n",
    "\n",
    "person_2 = {\n",
    "    'first_name': \"Timothy\",\n",
    "    'last_name': \"Spade\",\n",
    "    'age': \"22\",\n",
    "    'city': \"Seattle, WA\"\n",
    "}\n",
    "\n",
    "person_3 = {\n",
    "    'first_name': \"Mark\",\n",
    "    'last_name': \"Dorchester\",\n",
    "    'age': \"23\",\n",
    "    'city': \"Seattle, WA\"\n",
    "}\n",
    "\n",
    "person_list = [person_1, person_2, person_3]\n",
    "\n",
    "for person in person_list:\n",
    "    for key, value in person.items():\n",
    "        print(key + \": \" + value)\n",
    "    print(\"\\n\")"
   ]
  },
  {
   "cell_type": "code",
   "execution_count": null,
   "metadata": {},
   "outputs": [],
   "source": []
  }
 ],
 "metadata": {
  "kernelspec": {
   "display_name": "Python 3",
   "language": "python",
   "name": "python3"
  },
  "language_info": {
   "codemirror_mode": {
    "name": "ipython",
    "version": 3
   },
   "file_extension": ".py",
   "mimetype": "text/x-python",
   "name": "python",
   "nbconvert_exporter": "python",
   "pygments_lexer": "ipython3",
   "version": "3.7.0"
  }
 },
 "nbformat": 4,
 "nbformat_minor": 2
}
